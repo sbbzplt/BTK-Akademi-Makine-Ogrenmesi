{
  "nbformat": 4,
  "nbformat_minor": 0,
  "metadata": {
    "colab": {
      "provenance": [],
      "authorship_tag": "ABX9TyMcP+rmaCAwrmyEwyQ7BTaX",
      "include_colab_link": true
    },
    "kernelspec": {
      "name": "python3",
      "display_name": "Python 3"
    },
    "language_info": {
      "name": "python"
    }
  },
  "cells": [
    {
      "cell_type": "markdown",
      "metadata": {
        "id": "view-in-github",
        "colab_type": "text"
      },
      "source": [
        "<a href=\"https://colab.research.google.com/github/sbbzplt/BTK-Akademi-Makine-Ogrenmesi/blob/master/5%20G%C3%B6zetimli%20%C3%96%C4%9Frenme/5.2-KNN_algorithm_1.ipynb\" target=\"_parent\"><img src=\"https://colab.research.google.com/assets/colab-badge.svg\" alt=\"Open In Colab\"/></a>"
      ]
    },
    {
      "cell_type": "markdown",
      "source": [
        "# KNN Algorithm"
      ],
      "metadata": {
        "id": "sDTWQ9aWZteq"
      }
    },
    {
      "cell_type": "markdown",
      "source": [
        "[Link](https://www.btkakademi.gov.tr/portal/course/makine-ogrenmesi-30123)\n"
      ],
      "metadata": {
        "id": "v8jj-1lAZo7-"
      }
    },
    {
      "cell_type": "code",
      "execution_count": null,
      "metadata": {
        "id": "b153oFdpY0PL"
      },
      "outputs": [],
      "source": []
    }
  ]
}